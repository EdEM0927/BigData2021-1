{
 "cells": [
  {
   "cell_type": "markdown",
   "metadata": {},
   "source": [
    "### Tarea 0 Seminario de Estadística I"
   ]
  },
  {
   "cell_type": "markdown",
   "metadata": {},
   "source": [
    "####  Complejidad Computacional Notación O(n) (asymptotic upper bound)"
   ]
  },
  {
   "cell_type": "markdown",
   "metadata": {},
   "source": [
    "Demuestre lo siguiente\n",
    "\n",
    "1. Si $f_1$ es $O(g_1)$ y $f_2$ es $O(g_2)$ entonces $(f_1+f_2)$ es $O(max{|g_1|,|g_2|})$\n",
    "2. Si $f_1$ es $O(g_1)$ y $f_2$ es $O(g_2)$ entonces $(f_1f_2)$ es $O(g_1g_2)$\n",
    "3. ¿Cuál es la complejidad del siguiente algoritmo(O)?\n",
    "\n",
    "for (i = 0; i < N; i++) {\n",
    "\n",
    "    for (j = 0; j < M; j++) {\n",
    "        print(i,j)\n",
    "    }\n",
    "\n",
    "}\n"
   ]
  },
  {
   "cell_type": "markdown",
   "metadata": {},
   "source": [
    "### Estadística Descriptiva"
   ]
  },
  {
   "cell_type": "markdown",
   "metadata": {},
   "source": [
    "1. Demuestre $-1 \\leq r_{XY}\\leq 1$ donde:\n",
    "$$\n",
    "r_{XY}=\\dfrac{\\sum_{i=1}^n(x_i-\\bar{x})(y_i-\\bar{y})}{\\sqrt{\\sum_{i=1}^n(x_i-\\bar{x})^2\\sum_{i=1}^n(y_i-\\bar{y})^2}}\n",
    "$$\n",
    "\n",
    "2. Demuestre que $|r_{XY} | = 1$ si y solo si existen una relación lineal entre las variables X y Y , es decir, $y_i = \\alpha + \\beta x_i  $ con $\\beta \\neq  0$"
   ]
  },
  {
   "cell_type": "markdown",
   "metadata": {},
   "source": [
    "Las calificaciones de 50 alumnos en Estadística han sido las siguientes:"
   ]
  },
  {
   "cell_type": "code",
   "execution_count": 2,
   "metadata": {},
   "outputs": [],
   "source": [
    "calif=[0, 1, 2, 2, 3, 3, 3, 4, 4, 4, 4, 4, 4, 5, 5, 5, 5, 5, 5, 5, 5, 5, 5, 5, 6,\n",
    "6, 6, 6, 6, 6, 6, 6, 6, 6, 6, 6, 7, 7, 7, 7, 7, 7, 7, 8, 8, 8, 8, 9, 9, 10]"
   ]
  },
  {
   "cell_type": "markdown",
   "metadata": {},
   "source": [
    "1. Calcular las medidas de tendencia central y de dispersión, ademas encuentre el Percentil 0.25 y 0.75 y elabore un gráfico de caja y brazos e histograma.\n",
    "2. ¿Los distribución de estos datos es Sesgada a la Izquierda?"
   ]
  },
  {
   "cell_type": "markdown",
   "metadata": {},
   "source": [
    "Los 40 alumnos de una clase han obtenido las siguientes puntuaciones, sobre 50, en un\n",
    "examen de Física."
   ]
  },
  {
   "cell_type": "code",
   "execution_count": 5,
   "metadata": {},
   "outputs": [],
   "source": [
    "califfisica=[48, 47, 44, 42, 41, 39, 39, 38, 38, 38, 37, 36, 36, 35, 35, 34, 34, 34, 33,\n",
    "32, 32, 31, 29, 28, 28, 27, 26, 25, 24, 23, 22, 20, 17, 15, 15, 13, 13, 11, 7, 3]"
   ]
  },
  {
   "cell_type": "markdown",
   "metadata": {},
   "source": [
    "1. Calcular las medidas de tendencia central y de dispersi ́on, ademas encuentre el Cuartil 1 y 3 así como los Deciles 1 y 9. Elabore un gráfico de caja y brazos, así como el gráfico de distribución empírica.\n",
    "2. ¿ Los datos tiene una distribuci ́on platicurtica?"
   ]
  }
 ],
 "metadata": {
  "kernelspec": {
   "display_name": "Python 3",
   "language": "python",
   "name": "python3"
  },
  "language_info": {
   "codemirror_mode": {
    "name": "ipython",
    "version": 3
   },
   "file_extension": ".py",
   "mimetype": "text/x-python",
   "name": "python",
   "nbconvert_exporter": "python",
   "pygments_lexer": "ipython3",
   "version": "3.7.3"
  }
 },
 "nbformat": 4,
 "nbformat_minor": 4
}
